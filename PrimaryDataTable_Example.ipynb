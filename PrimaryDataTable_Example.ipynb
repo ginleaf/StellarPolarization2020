{
 "cells": [
  {
   "cell_type": "code",
   "execution_count": 18,
   "metadata": {},
   "outputs": [],
   "source": [
    "import h5py\n",
    "import matplotlib.pyplot as plt\n",
    "import numpy as np\n",
    "import polarization_functions\n",
    "import coordinate_conversions\n",
    "import CDS\n",
    "from importlib import reload\n",
    "from astropy.coordinates import SkyCoord\n",
    "import astropy.units as unit\n",
    "from astropy.io import ascii\n",
    "from astropy.table import Column"
   ]
  },
  {
   "cell_type": "markdown",
   "metadata": {},
   "source": [
    "# This example will walk us through getting from a table as given in a paper to a table in the format we need for this first step (the Primary Data Table)"
   ]
  },
  {
   "cell_type": "markdown",
   "metadata": {},
   "source": [
    "# Example1: Soam+2018"
   ]
  },
  {
   "cell_type": "markdown",
   "metadata": {},
   "source": [
    "## No electronic format available: I copied the measurements to a csv file containing only the original columns in the paper"
   ]
  },
  {
   "cell_type": "markdown",
   "metadata": {},
   "source": [
    "## Let's read in the file using astropy ascii"
   ]
  },
  {
   "cell_type": "code",
   "execution_count": 174,
   "metadata": {},
   "outputs": [],
   "source": [
    "data = ascii.read(\"Soam2018_table4.csv\")"
   ]
  },
  {
   "cell_type": "code",
   "execution_count": 129,
   "metadata": {},
   "outputs": [
    {
     "data": {
      "text/html": [
       "<i>Table length=6</i>\n",
       "<table id=\"table140434202058936\" class=\"table-striped table-bordered table-condensed\">\n",
       "<thead><tr><th>rawstarID</th><th>Name</th><th>V</th><th>rawP</th><th>rawE_P</th><th>rawEVPA</th><th>rawE_EVPA</th><th>Dist</th></tr></thead>\n",
       "<thead><tr><th>int64</th><th>str9</th><th>float64</th><th>float64</th><th>float64</th><th>int64</th><th>int64</th><th>int64</th></tr></thead>\n",
       "<tr><td>1</td><td>HD207049</td><td>8.9</td><td>0.95</td><td>0.08</td><td>5</td><td>2</td><td>379</td></tr>\n",
       "<tr><td>2</td><td>HD206081</td><td>7.6</td><td>1.07</td><td>0.07</td><td>64</td><td>1</td><td>446</td></tr>\n",
       "<tr><td>3</td><td>HD209744</td><td>6.7</td><td>0.65</td><td>0.2</td><td>55</td><td>8</td><td>450</td></tr>\n",
       "<tr><td>4</td><td>HD210628</td><td>6.9</td><td>1.26</td><td>0.2</td><td>60</td><td>4</td><td>480</td></tr>\n",
       "<tr><td>5</td><td>HD239728</td><td>8.8</td><td>0.58</td><td>0.06</td><td>115</td><td>3</td><td>568</td></tr>\n",
       "<tr><td>6</td><td>HD206267A</td><td>5.6</td><td>1.02</td><td>0.07</td><td>39</td><td>2</td><td>606</td></tr>\n",
       "</table>"
      ],
      "text/plain": [
       "<Table length=6>\n",
       "rawstarID    Name      V      rawP   rawE_P rawEVPA rawE_EVPA  Dist\n",
       "  int64      str9   float64 float64 float64  int64    int64   int64\n",
       "--------- --------- ------- ------- ------- ------- --------- -----\n",
       "        1  HD207049     8.9    0.95    0.08       5         2   379\n",
       "        2  HD206081     7.6    1.07    0.07      64         1   446\n",
       "        3  HD209744     6.7    0.65     0.2      55         8   450\n",
       "        4  HD210628     6.9    1.26     0.2      60         4   480\n",
       "        5  HD239728     8.8    0.58    0.06     115         3   568\n",
       "        6 HD206267A     5.6    1.02    0.07      39         2   606"
      ]
     },
     "execution_count": 129,
     "metadata": {},
     "output_type": "execute_result"
    }
   ],
   "source": [
    "data"
   ]
  },
  {
   "cell_type": "markdown",
   "metadata": {},
   "source": [
    "# This file so far has only what info was given in the paper. Note that I've named the relevant columns according to our convention.\n",
    "# We'll keep it simple and create a new dictionary that will hold the information of the columns and data we need. \n",
    "### (If you're familiar with astropy tables, feel free to use them instead.)"
   ]
  },
  {
   "cell_type": "code",
   "execution_count": 130,
   "metadata": {},
   "outputs": [],
   "source": [
    "# This is the number of sources in the table\n",
    "Nsources = len(data['rawstarID'])\n",
    "\n",
    "# Column names that we need in our final table - not those that need any amount of processing other than adding nans\n",
    "colnames = ['starID','Name','rawstarID','RefID','Instrument','JD','FilterID',\\\n",
    "             'rawRA','rawDec','rawQ','rawE_Q','rawU','rawE_U','rawP','rawE_P',\\\n",
    "             'rawP_D','rawEVPA','rawE_EVPA','IntrPol','RA', 'Dec', 'q', 'e_q',\\\n",
    "             'u', 'e_u', 'p', 'e_p', 'evpa', 'e_evpa']\n",
    "\n",
    "# Dictionary that will represent our table\n",
    "my_table = {}\n",
    "\n",
    "# Loop over all column names, add NaN columns where no info\n",
    "for ii, cname in enumerate(colnames):\n",
    "    if cname not in data.keys():\n",
    "        if cname == 'IntrPol':\n",
    "            NewArray = np.zeros(Nsources, dtype = int)\n",
    "        elif cname == 'rawRA' or cname == 'rawDec':\n",
    "            NewArray = np.array(['nan' for jj in range(Nsources)], dtype = 'U')\n",
    "        else: \n",
    "            NewArray  = np.zeros(Nsources)+np.nan\n",
    "        my_table[cname] = NewArray\n",
    "    else:\n",
    "        my_table[cname] = data[cname].data\n",
    "        \n",
    "        \n",
    "# I'll add columns to the original table so we can visualize what happened        \n",
    "for ii, cname in enumerate(colnames):\n",
    "    if cname not in data.keys():\n",
    "        NewColumn = Column(np.zeros(Nsources)+np.nan)\n",
    "        data.add_column(NewColumn,index = ii+1, name = cname)\n",
    "    else:\n",
    "        continue"
   ]
  },
  {
   "cell_type": "code",
   "execution_count": 131,
   "metadata": {},
   "outputs": [
    {
     "data": {
      "text/html": [
       "<i>Table length=6</i>\n",
       "<table id=\"table140434202058936\" class=\"table-striped table-bordered table-condensed\">\n",
       "<thead><tr><th>rawstarID</th><th>starID</th><th>Name</th><th>V</th><th>RefID</th><th>Instrument</th><th>JD</th><th>FilterID</th><th>rawRA</th><th>rawDec</th><th>rawQ</th><th>rawE_Q</th><th>rawU</th><th>rawE_U</th><th>rawP</th><th>rawE_P</th><th>rawP_D</th><th>rawEVPA</th><th>rawE_EVPA</th><th>IntrPol</th><th>RA</th><th>Dec</th><th>q</th><th>e_q</th><th>u</th><th>e_u</th><th>p</th><th>e_p</th><th>evpa</th><th>e_evpa</th><th>Dist</th></tr></thead>\n",
       "<thead><tr><th>int64</th><th>float64</th><th>str9</th><th>float64</th><th>float64</th><th>float64</th><th>float64</th><th>float64</th><th>float64</th><th>float64</th><th>float64</th><th>float64</th><th>float64</th><th>float64</th><th>float64</th><th>float64</th><th>float64</th><th>int64</th><th>int64</th><th>float64</th><th>float64</th><th>float64</th><th>float64</th><th>float64</th><th>float64</th><th>float64</th><th>float64</th><th>float64</th><th>float64</th><th>float64</th><th>int64</th></tr></thead>\n",
       "<tr><td>1</td><td>nan</td><td>HD207049</td><td>8.9</td><td>nan</td><td>nan</td><td>nan</td><td>nan</td><td>nan</td><td>nan</td><td>nan</td><td>nan</td><td>nan</td><td>nan</td><td>0.95</td><td>0.08</td><td>nan</td><td>5</td><td>2</td><td>nan</td><td>nan</td><td>nan</td><td>nan</td><td>nan</td><td>nan</td><td>nan</td><td>nan</td><td>nan</td><td>nan</td><td>nan</td><td>379</td></tr>\n",
       "<tr><td>2</td><td>nan</td><td>HD206081</td><td>7.6</td><td>nan</td><td>nan</td><td>nan</td><td>nan</td><td>nan</td><td>nan</td><td>nan</td><td>nan</td><td>nan</td><td>nan</td><td>1.07</td><td>0.07</td><td>nan</td><td>64</td><td>1</td><td>nan</td><td>nan</td><td>nan</td><td>nan</td><td>nan</td><td>nan</td><td>nan</td><td>nan</td><td>nan</td><td>nan</td><td>nan</td><td>446</td></tr>\n",
       "<tr><td>3</td><td>nan</td><td>HD209744</td><td>6.7</td><td>nan</td><td>nan</td><td>nan</td><td>nan</td><td>nan</td><td>nan</td><td>nan</td><td>nan</td><td>nan</td><td>nan</td><td>0.65</td><td>0.2</td><td>nan</td><td>55</td><td>8</td><td>nan</td><td>nan</td><td>nan</td><td>nan</td><td>nan</td><td>nan</td><td>nan</td><td>nan</td><td>nan</td><td>nan</td><td>nan</td><td>450</td></tr>\n",
       "<tr><td>4</td><td>nan</td><td>HD210628</td><td>6.9</td><td>nan</td><td>nan</td><td>nan</td><td>nan</td><td>nan</td><td>nan</td><td>nan</td><td>nan</td><td>nan</td><td>nan</td><td>1.26</td><td>0.2</td><td>nan</td><td>60</td><td>4</td><td>nan</td><td>nan</td><td>nan</td><td>nan</td><td>nan</td><td>nan</td><td>nan</td><td>nan</td><td>nan</td><td>nan</td><td>nan</td><td>480</td></tr>\n",
       "<tr><td>5</td><td>nan</td><td>HD239728</td><td>8.8</td><td>nan</td><td>nan</td><td>nan</td><td>nan</td><td>nan</td><td>nan</td><td>nan</td><td>nan</td><td>nan</td><td>nan</td><td>0.58</td><td>0.06</td><td>nan</td><td>115</td><td>3</td><td>nan</td><td>nan</td><td>nan</td><td>nan</td><td>nan</td><td>nan</td><td>nan</td><td>nan</td><td>nan</td><td>nan</td><td>nan</td><td>568</td></tr>\n",
       "<tr><td>6</td><td>nan</td><td>HD206267A</td><td>5.6</td><td>nan</td><td>nan</td><td>nan</td><td>nan</td><td>nan</td><td>nan</td><td>nan</td><td>nan</td><td>nan</td><td>nan</td><td>1.02</td><td>0.07</td><td>nan</td><td>39</td><td>2</td><td>nan</td><td>nan</td><td>nan</td><td>nan</td><td>nan</td><td>nan</td><td>nan</td><td>nan</td><td>nan</td><td>nan</td><td>nan</td><td>606</td></tr>\n",
       "</table>"
      ],
      "text/plain": [
       "<Table length=6>\n",
       "rawstarID  starID    Name      V     RefID  ...   e_p     evpa   e_evpa  Dist\n",
       "  int64   float64    str9   float64 float64 ... float64 float64 float64 int64\n",
       "--------- ------- --------- ------- ------- ... ------- ------- ------- -----\n",
       "        1     nan  HD207049     8.9     nan ...     nan     nan     nan   379\n",
       "        2     nan  HD206081     7.6     nan ...     nan     nan     nan   446\n",
       "        3     nan  HD209744     6.7     nan ...     nan     nan     nan   450\n",
       "        4     nan  HD210628     6.9     nan ...     nan     nan     nan   480\n",
       "        5     nan  HD239728     8.8     nan ...     nan     nan     nan   568\n",
       "        6     nan HD206267A     5.6     nan ...     nan     nan     nan   606"
      ]
     },
     "execution_count": 131,
     "metadata": {},
     "output_type": "execute_result"
    }
   ],
   "source": [
    "data"
   ]
  },
  {
   "cell_type": "markdown",
   "metadata": {},
   "source": [
    "# Now let's create the minimally processed information"
   ]
  },
  {
   "cell_type": "markdown",
   "metadata": {},
   "source": [
    "## Add metadata"
   ]
  },
  {
   "cell_type": "code",
   "execution_count": 132,
   "metadata": {},
   "outputs": [],
   "source": [
    "####JD\n",
    "\n",
    "JD = 2456566.5\n",
    "my_table['JD'] = np.zeros(Nsources)+JD\n",
    "\n",
    "###Instrument\n",
    "\n",
    "# I'm sleepy so this is stupid code :(\n",
    "Instr = 'AIMPOL'\n",
    "Il = []\n",
    "for ii in range(Nsources):\n",
    "    Il.append(Instr)\n",
    "my_table['Instrument'] = np.array(Il, dtype = 'U')\n",
    "\n",
    "### RefID\n",
    "RefID = 14\n",
    "my_table['RefID'] = np.zeros(Nsources, dtype = int)+RefID\n",
    "\n",
    "## FilterID\n",
    "FiltID = 0\n",
    "my_table['FilterID'] = np.zeros(Nsources, dtype = int)+FiltID"
   ]
  },
  {
   "cell_type": "markdown",
   "metadata": {},
   "source": [
    "## Convert rawstarID to string, if not already"
   ]
  },
  {
   "cell_type": "code",
   "execution_count": 133,
   "metadata": {},
   "outputs": [],
   "source": [
    "if type(my_table['rawstarID'][0])!=np.string_ or type(my_table['rawstarID'][0])!=np.str_:\n",
    "    my_table['rawstarID'] = my_table['rawstarID'].astype('U')"
   ]
  },
  {
   "cell_type": "markdown",
   "metadata": {},
   "source": [
    "# Convert P to fraction"
   ]
  },
  {
   "cell_type": "code",
   "execution_count": 134,
   "metadata": {},
   "outputs": [],
   "source": [
    "my_table['p'] = my_table['rawP']/100.\n",
    "my_table['e_p'] = my_table['rawE_P']/100."
   ]
  },
  {
   "cell_type": "markdown",
   "metadata": {},
   "source": [
    "## Rename EVPA, keep as is for this paper"
   ]
  },
  {
   "cell_type": "code",
   "execution_count": 148,
   "metadata": {},
   "outputs": [],
   "source": [
    "my_table['evpa'] = my_table['rawEVPA']\n",
    "my_table['e_evpa'] = my_table['rawE_EVPA']"
   ]
  },
  {
   "cell_type": "markdown",
   "metadata": {},
   "source": [
    "# Get q, u from p, EVPA"
   ]
  },
  {
   "cell_type": "code",
   "execution_count": 149,
   "metadata": {},
   "outputs": [],
   "source": [
    "# remember to convert EVPA to radians when passing it into the function\n",
    "my_table['q'], my_table['u'], my_table['e_q'], my_table['e_u'] = \\\n",
    "                polarization_functions.qu_from_p_EVPA(my_table['p'], np.radians(my_table['rawEVPA']),\\\n",
    "                                                      my_table['e_p'], np.radians(my_table['rawE_EVPA']))"
   ]
  },
  {
   "cell_type": "markdown",
   "metadata": {},
   "source": [
    "# No coordinates were specified. Query Simbad to get RA, DEC"
   ]
  },
  {
   "cell_type": "code",
   "execution_count": 141,
   "metadata": {
    "scrolled": true
   },
   "outputs": [
    {
     "name": "stderr",
     "output_type": "stream",
     "text": [
      "/home/gin/anaconda2/envs/py36/lib/python3.6/site-packages/astropy/table/table.py:2761: FutureWarning: elementwise == comparison failed and returning scalar instead; this will raise an error or perform elementwise comparison in the future.\n",
      "  result = (self.as_array().data == other) & (self.mask == false_mask)\n",
      "/home/gin/anaconda2/envs/py36/lib/python3.6/site-packages/astropy/table/table.py:2761: FutureWarning: elementwise == comparison failed and returning scalar instead; this will raise an error or perform elementwise comparison in the future.\n",
      "  result = (self.as_array().data == other) & (self.mask == false_mask)\n",
      "/home/gin/anaconda2/envs/py36/lib/python3.6/site-packages/astropy/table/table.py:2761: FutureWarning: elementwise == comparison failed and returning scalar instead; this will raise an error or perform elementwise comparison in the future.\n",
      "  result = (self.as_array().data == other) & (self.mask == false_mask)\n",
      "/home/gin/anaconda2/envs/py36/lib/python3.6/site-packages/astropy/table/table.py:2761: FutureWarning: elementwise == comparison failed and returning scalar instead; this will raise an error or perform elementwise comparison in the future.\n",
      "  result = (self.as_array().data == other) & (self.mask == false_mask)\n",
      "/home/gin/anaconda2/envs/py36/lib/python3.6/site-packages/astropy/table/table.py:2761: FutureWarning: elementwise == comparison failed and returning scalar instead; this will raise an error or perform elementwise comparison in the future.\n",
      "  result = (self.as_array().data == other) & (self.mask == false_mask)\n",
      "/home/gin/anaconda2/envs/py36/lib/python3.6/site-packages/astropy/table/table.py:2761: FutureWarning: elementwise == comparison failed and returning scalar instead; this will raise an error or perform elementwise comparison in the future.\n",
      "  result = (self.as_array().data == other) & (self.mask == false_mask)\n"
     ]
    }
   ],
   "source": [
    "from astroquery.simbad import Simbad\n",
    "my_table['RA'] = np.zeros(len(data['Name'].data))+np.nan\n",
    "my_table['Dec'] = np.zeros(len(data['Name'].data))+np.nan\n",
    "\n",
    "for ii in range(len(data['Name'].data)):\n",
    "    result_table = Simbad.query_object(data['Name'][ii])\n",
    "    if result_table == None: # Then the query did not find a match, skip this source\n",
    "        continue\n",
    "    rahms = result_table['RA'][0].split()\n",
    "    decdms = result_table['DEC'][0].split()\n",
    "    star = SkyCoord('%sh%sm%ss'%(rahms[0],rahms[1],rahms[2]), '%sd%sm%ss'%(decdms[0],decdms[1],decdms[2]),frame='icrs')\n",
    "    my_table['RA'][ii] = star.icrs.ra.deg\n",
    "    my_table['Dec'][ii] = star.icrs.dec.deg\n",
    "\n"
   ]
  },
  {
   "cell_type": "markdown",
   "metadata": {},
   "source": [
    "# We are now ready to write our final ASCII (csv) file!"
   ]
  },
  {
   "cell_type": "code",
   "execution_count": 171,
   "metadata": {},
   "outputs": [],
   "source": [
    "filename = 'PrimaryDataTable.csv'\n",
    "fop = open(filename,'w')\n",
    "\n",
    "# Write the header\n",
    "headerstr = ''\n",
    "for cname in colnames:\n",
    "    headerstr+=cname+','\n",
    "fop.write(headerstr.strip(',')+'\\n')\n",
    "\n",
    "# Write the data row by row (I'm sure there's a better way..)\n",
    "starIDcounter = 0 # the ID number you set for the first source from this paper\n",
    "for ii in range(Nsources):\n",
    "    writestr = '{0:d},{1:s},{2:s},{3:d},{4:s},{5:.4f},'.format(ii+starIDcounter, my_table['Name'][ii], \\\n",
    "                                                               my_table['rawstarID'][ii],my_table['RefID'][ii],\\\n",
    "                                                              my_table['Instrument'][ii],my_table['JD'][ii])\n",
    "    writestr+= '{0:d},{1:s},{2:s},{3:.6f},{4:.6f},'.format(my_table['FilterID'][ii], my_table['rawRA'][ii],\\\n",
    "                                                         my_table['rawDec'][ii], my_table['rawQ'][ii], my_table['rawE_Q'][ii])\n",
    "    writestr+= '{0:.6f},{1:.6f},{2:.6f},{3:.6f},{4:.6f},'.format(my_table['rawU'][ii], my_table['rawE_U'][ii],\\\n",
    "                                                         my_table['rawP'][ii], my_table['rawE_P'][ii], my_table['rawP_D'][ii])\n",
    "    writestr+= '{0:.1f},{1:.1f},{2:d},{3:.6f},{4:.6f},'.format(my_table['rawEVPA'][ii], my_table['rawE_EVPA'][ii],\\\n",
    "                                                         my_table['IntrPol'][ii], my_table['RA'][ii], my_table['Dec'][ii])\n",
    "    writestr+= '{0:.6f},{1:.6f},{2:.6f},{3:.6f},{4:.6f},'.format(my_table['q'][ii], my_table['e_q'][ii],\\\n",
    "                                                         my_table['u'][ii], my_table['e_u'][ii], my_table['p'][ii])\n",
    "    writestr+= '{0:.6f},{1:.1f},{2:.1f}'.format(my_table['e_p'][ii], my_table['evpa'][ii],\\\n",
    "                                                         my_table['e_evpa'][ii])\n",
    "    fop.write(writestr+'\\n')\n",
    "    \n",
    "fop.close()"
   ]
  },
  {
   "cell_type": "markdown",
   "metadata": {},
   "source": [
    "# Let's visualize it"
   ]
  },
  {
   "cell_type": "code",
   "execution_count": 172,
   "metadata": {},
   "outputs": [],
   "source": [
    "PTable = ascii.read(\"PrimaryDataTable.csv\")"
   ]
  },
  {
   "cell_type": "code",
   "execution_count": 173,
   "metadata": {},
   "outputs": [
    {
     "data": {
      "text/html": [
       "<i>Table length=6</i>\n",
       "<table id=\"table140434168829712\" class=\"table-striped table-bordered table-condensed\">\n",
       "<thead><tr><th>starID</th><th>Name</th><th>rawstarID</th><th>RefID</th><th>Instrument</th><th>JD</th><th>FilterID</th><th>rawRA</th><th>rawDec</th><th>rawQ</th><th>rawE_Q</th><th>rawU</th><th>rawE_U</th><th>rawP</th><th>rawE_P</th><th>rawP_D</th><th>rawEVPA</th><th>rawE_EVPA</th><th>IntrPol</th><th>RA</th><th>Dec</th><th>q</th><th>e_q</th><th>u</th><th>e_u</th><th>p</th><th>e_p</th><th>evpa</th><th>e_evpa</th></tr></thead>\n",
       "<thead><tr><th>int64</th><th>str9</th><th>int64</th><th>int64</th><th>str6</th><th>float64</th><th>int64</th><th>float64</th><th>float64</th><th>float64</th><th>float64</th><th>float64</th><th>float64</th><th>float64</th><th>float64</th><th>float64</th><th>float64</th><th>float64</th><th>int64</th><th>float64</th><th>float64</th><th>float64</th><th>float64</th><th>float64</th><th>float64</th><th>float64</th><th>float64</th><th>float64</th><th>float64</th></tr></thead>\n",
       "<tr><td>0</td><td>HD207049</td><td>1</td><td>14</td><td>AIMPOL</td><td>2456566.5</td><td>0</td><td>nan</td><td>nan</td><td>nan</td><td>nan</td><td>nan</td><td>nan</td><td>0.95</td><td>0.08</td><td>nan</td><td>5.0</td><td>2.0</td><td>0</td><td>326.089673</td><td>57.737317</td><td>0.009356</td><td>0.000796</td><td>0.00165</td><td>0.000668</td><td>0.0095</td><td>0.0008</td><td>5.0</td><td>2.0</td></tr>\n",
       "<tr><td>1</td><td>HD206081</td><td>2</td><td>14</td><td>AIMPOL</td><td>2456566.5</td><td>0</td><td>nan</td><td>nan</td><td>nan</td><td>nan</td><td>nan</td><td>nan</td><td>1.07</td><td>0.07</td><td>nan</td><td>64.0</td><td>1.0</td><td>0</td><td>324.42055</td><td>57.56041</td><td>-0.006588</td><td>0.000522</td><td>0.008432</td><td>0.000598</td><td>0.0107</td><td>0.0007</td><td>64.0</td><td>1.0</td></tr>\n",
       "<tr><td>2</td><td>HD209744</td><td>3</td><td>14</td><td>AIMPOL</td><td>2456566.5</td><td>0</td><td>nan</td><td>nan</td><td>nan</td><td>nan</td><td>nan</td><td>nan</td><td>0.65</td><td>0.2</td><td>nan</td><td>55.0</td><td>8.0</td><td>0</td><td>330.974405</td><td>59.814569</td><td>-0.002223</td><td>0.001838</td><td>0.006108</td><td>0.001979</td><td>0.0065</td><td>0.002</td><td>55.0</td><td>8.0</td></tr>\n",
       "<tr><td>3</td><td>HD210628</td><td>4</td><td>14</td><td>AIMPOL</td><td>2456566.5</td><td>0</td><td>nan</td><td>nan</td><td>nan</td><td>nan</td><td>nan</td><td>nan</td><td>1.26</td><td>0.2</td><td>nan</td><td>60.0</td><td>4.0</td><td>0</td><td>332.542848</td><td>56.083885</td><td>-0.0063</td><td>0.001822</td><td>0.010912</td><td>0.001943</td><td>0.0126</td><td>0.002</td><td>60.0</td><td>4.0</td></tr>\n",
       "<tr><td>4</td><td>HD239728</td><td>5</td><td>14</td><td>AIMPOL</td><td>2456566.5</td><td>0</td><td>nan</td><td>nan</td><td>nan</td><td>nan</td><td>nan</td><td>nan</td><td>0.58</td><td>0.06</td><td>nan</td><td>115.0</td><td>3.0</td><td>0</td><td>324.878674</td><td>56.594152</td><td>-0.003728</td><td>0.000604</td><td>-0.004443</td><td>0.000603</td><td>0.0058</td><td>0.0006</td><td>115.0</td><td>3.0</td></tr>\n",
       "<tr><td>5</td><td>HD206267A</td><td>6</td><td>14</td><td>AIMPOL</td><td>2456566.5</td><td>0</td><td>nan</td><td>nan</td><td>nan</td><td>nan</td><td>nan</td><td>nan</td><td>1.02</td><td>0.07</td><td>nan</td><td>39.0</td><td>2.0</td><td>0</td><td>324.740042</td><td>57.489028</td><td>0.002121</td><td>0.000712</td><td>0.009977</td><td>0.000701</td><td>0.0102</td><td>0.0007</td><td>39.0</td><td>2.0</td></tr>\n",
       "</table>"
      ],
      "text/plain": [
       "<Table length=6>\n",
       "starID    Name   rawstarID RefID Instrument ...    p      e_p     evpa   e_evpa\n",
       "int64     str9     int64   int64    str6    ... float64 float64 float64 float64\n",
       "------ --------- --------- ----- ---------- ... ------- ------- ------- -------\n",
       "     0  HD207049         1    14     AIMPOL ...  0.0095  0.0008     5.0     2.0\n",
       "     1  HD206081         2    14     AIMPOL ...  0.0107  0.0007    64.0     1.0\n",
       "     2  HD209744         3    14     AIMPOL ...  0.0065   0.002    55.0     8.0\n",
       "     3  HD210628         4    14     AIMPOL ...  0.0126   0.002    60.0     4.0\n",
       "     4  HD239728         5    14     AIMPOL ...  0.0058  0.0006   115.0     3.0\n",
       "     5 HD206267A         6    14     AIMPOL ...  0.0102  0.0007    39.0     2.0"
      ]
     },
     "execution_count": 173,
     "metadata": {},
     "output_type": "execute_result"
    }
   ],
   "source": [
    "PTable"
   ]
  },
  {
   "cell_type": "code",
   "execution_count": null,
   "metadata": {},
   "outputs": [],
   "source": []
  }
 ],
 "metadata": {
  "kernelspec": {
   "display_name": "Python [conda env:py36]",
   "language": "python",
   "name": "conda-env-py36-py"
  },
  "language_info": {
   "codemirror_mode": {
    "name": "ipython",
    "version": 3
   },
   "file_extension": ".py",
   "mimetype": "text/x-python",
   "name": "python",
   "nbconvert_exporter": "python",
   "pygments_lexer": "ipython3",
   "version": "3.6.8"
  }
 },
 "nbformat": 4,
 "nbformat_minor": 2
}
