{
 "cells": [
  {
   "cell_type": "markdown",
   "metadata": {},
   "source": [
    "# We'll be using HDF5 files to organize and store the data\n",
    "## Install the h5py package: http://docs.h5py.org/en/stable/"
   ]
  },
  {
   "cell_type": "code",
   "execution_count": 11,
   "metadata": {},
   "outputs": [],
   "source": [
    "import h5py\n",
    "import matplotlib.pyplot as plt\n",
    "import numpy as np\n",
    "import polarization_functions\n",
    "import coordinate_conversions\n",
    "import CDS\n",
    "from importlib import reload"
   ]
  },
  {
   "cell_type": "code",
   "execution_count": 69,
   "metadata": {},
   "outputs": [
    {
     "data": {
      "text/plain": [
       "<module 'CDS' from '/home/gin/projects/StellarPolarization2020/CDS.py'>"
      ]
     },
     "execution_count": 69,
     "metadata": {},
     "output_type": "execute_result"
    }
   ],
   "source": [
    "reload(CDS)"
   ]
  },
  {
   "cell_type": "markdown",
   "metadata": {},
   "source": [
    "# Create a HDF5 file. \n",
    "## This will serve as your local Table which you will fill with published data. At the end of the hackathon, we will merge all individual HDF5 files into one table."
   ]
  },
  {
   "cell_type": "code",
   "execution_count": 134,
   "metadata": {},
   "outputs": [],
   "source": [
    "# Create an hdf5 file to write\n",
    "f = h5py.File('table_Gina.hdf5', 'a') # 'w' option will clean any existing file with this name, \n",
    "#                                        use 'a' to append to an existing file"
   ]
  },
  {
   "cell_type": "markdown",
   "metadata": {},
   "source": [
    "## For the hackathon, the structure of the HDF5 file will be the following:"
   ]
  },
  {
   "attachments": {
    "Datastructure.png": {
     "image/png": "[encoded data removed]"
    }
   },
   "cell_type": "markdown",
   "metadata": {},
   "source": [
    "![Datastructure.png](attachment:Datastructure.png)"
   ]
  },
  {
   "cell_type": "markdown",
   "metadata": {},
   "source": [
    "# Example: Add data from a published paper to your personal HDF5 File"
   ]
  },
  {
   "cell_type": "markdown",
   "metadata": {},
   "source": [
    "## Read the catalog of Panopoulou+2019b (downloaded from the CDS)"
   ]
  },
  {
   "cell_type": "code",
   "execution_count": 70,
   "metadata": {},
   "outputs": [],
   "source": [
    "# Use the custom-made function that reads Readme and table files that are in the CDS format\n",
    "## Caution! I've only tested this for a couple use-cases. May need tweaking to work for your case.\n",
    "\n",
    "catalogdir = 'published_data/Panopoulou2019b/'\n",
    "\n",
    "# Create a dictionary that stores all data in the table sorted in columns\n",
    "column_dictionary = CDS.read_table(catalogdir+'Readme.txt', catalogdir+'table.dat')"
   ]
  },
  {
   "cell_type": "code",
   "execution_count": 86,
   "metadata": {},
   "outputs": [
    {
     "name": "stdout",
     "output_type": "stream",
     "text": [
      "dict_keys(['Gaia', 'USNOB', 'RAdeg', 'DEdeg', 'Q', 'e_Q', 'U', 'e_U', 'P', 'e_P', 'dP', 'theta', 'e_theta', 'Dist', 'e_Dist', 'E_Dist'])\n",
      "[85, 91, <class 'numpy.float64'>, array([0.01543, 0.00909, 0.00411, 0.01148, 0.01338, 0.00295, 0.01596,\n",
      "       0.01385, 0.00261, 0.01351, 0.00979, 0.01214, 0.00291, 0.01644,\n",
      "       0.01371, 0.01068, 0.01058, 0.01095, 0.01565, 0.01397, 0.01102,\n",
      "       0.01483])]\n"
     ]
    }
   ],
   "source": [
    "# Print the column names to see what's in it\n",
    "print(column_dictionary.keys())\n",
    "\n",
    "# Let's look at the data in the 'P' column\n",
    "print(column_dictionary['P'])\n",
    "\n",
    "# Each dictionary entry is a list with 3 entries. \n",
    "# The last entry of the list contains the data in the form of a 1d numpy array\n",
    "Pdatacolumn = column_dictionary['P']"
   ]
  },
  {
   "cell_type": "markdown",
   "metadata": {},
   "source": [
    "## First, let's create a new Group object that will hold all the data associated with this paper"
   ]
  },
  {
   "cell_type": "code",
   "execution_count": 121,
   "metadata": {},
   "outputs": [],
   "source": [
    "grp = f.create_group('Panopoulou2019b')"
   ]
  },
  {
   "cell_type": "markdown",
   "metadata": {},
   "source": [
    "## We can store metadata about this publication as attributes to the Group"
   ]
  },
  {
   "cell_type": "code",
   "execution_count": 123,
   "metadata": {},
   "outputs": [],
   "source": [
    "f['Panopoulou2019b'].attrs['Instrument'] = 'RoboPol'\n",
    "f['Panopoulou2019b'].attrs['ADSlink'] = 'https://ui.adsabs.harvard.edu/abs/2019A%26A...624L...8P/abstract'"
   ]
  },
  {
   "cell_type": "code",
   "execution_count": 124,
   "metadata": {},
   "outputs": [
    {
     "name": "stdout",
     "output_type": "stream",
     "text": [
      "<KeysViewHDF5 ['ADSlink', 'Instrument']>\n"
     ]
    }
   ],
   "source": [
    "# List the attributes we just created\n",
    "print(f['Panopoulou2019b'].attrs.keys())"
   ]
  },
  {
   "cell_type": "markdown",
   "metadata": {},
   "source": [
    "## Now, let's add the 'P' column data as a new dataset object"
   ]
  },
  {
   "cell_type": "code",
   "execution_count": 125,
   "metadata": {},
   "outputs": [],
   "source": [
    "f['Panopoulou2019b'].create_dataset('P', data = column_dictionary['P'][3])\n",
    "\n",
    "# We can specify an attribute to the dataset, e.g. what the unit is\n",
    "f['Panopoulou2019b']['P'].attrs['unit'] = 'fraction'\n",
    "f['Panopoulou2019b']['P'].attrs['info'] = 'biased p'\n",
    "f['Panopoulou2019b']['P'].attrs['Filter'] = 'R'"
   ]
  },
  {
   "cell_type": "code",
   "execution_count": 126,
   "metadata": {},
   "outputs": [
    {
     "data": {
      "text/plain": [
       "<KeysViewHDF5 ['Filter', 'info', 'unit']>"
      ]
     },
     "execution_count": 126,
     "metadata": {},
     "output_type": "execute_result"
    }
   ],
   "source": [
    "# Show what attributes we stored\n",
    "f['Panopoulou2019b']['P'].attrs.keys()"
   ]
  },
  {
   "cell_type": "markdown",
   "metadata": {},
   "source": [
    "## Loop over all columns in the dictionary and add the data in"
   ]
  },
  {
   "cell_type": "code",
   "execution_count": 127,
   "metadata": {},
   "outputs": [],
   "source": [
    "for key in column_dictionary.keys():\n",
    "    try:\n",
    "        f['Panopoulou2019b'].create_dataset(key, data = column_dictionary[key][3])\n",
    "    except:\n",
    "        continue"
   ]
  },
  {
   "cell_type": "markdown",
   "metadata": {},
   "source": [
    "## Example flag usage: Let's say that we know the first source is intrinsically polarized"
   ]
  },
  {
   "cell_type": "code",
   "execution_count": 135,
   "metadata": {},
   "outputs": [],
   "source": [
    "# Create a column of length equal to the number of sources\n",
    "ip_flag = np.zeros_like(column_dictionary['P'][3])\n",
    "# Set intrinsically polarized flag to 1 for the source that is bad\n",
    "ip_flag[0] = 1\n",
    "\n",
    "# Add this column to the group\n",
    "f['Panopoulou2019b']['ip_flag'] = ip_flag\n",
    "f['Panopoulou2019b']['ip_flag'].attrs['Comment'] = 'flag = 1 -> Intrinsically polarized, flag = 0 -> not'"
   ]
  },
  {
   "cell_type": "markdown",
   "metadata": {},
   "source": [
    "## Visualize the structure of the file"
   ]
  },
  {
   "cell_type": "code",
   "execution_count": 136,
   "metadata": {},
   "outputs": [
    {
     "name": "stdout",
     "output_type": "stream",
     "text": [
      "Panopoulou2019b\n",
      "Panopoulou2019b/DEdeg\n",
      "Panopoulou2019b/Dist\n",
      "Panopoulou2019b/E_Dist\n",
      "Panopoulou2019b/Gaia\n",
      "Panopoulou2019b/P\n",
      "Panopoulou2019b/Q\n",
      "Panopoulou2019b/RAdeg\n",
      "Panopoulou2019b/U\n",
      "Panopoulou2019b/dP\n",
      "Panopoulou2019b/e_Dist\n",
      "Panopoulou2019b/e_P\n",
      "Panopoulou2019b/e_Q\n",
      "Panopoulou2019b/e_U\n",
      "Panopoulou2019b/e_theta\n",
      "Panopoulou2019b/ip_flag\n",
      "Panopoulou2019b/theta\n"
     ]
    }
   ],
   "source": [
    "def printname(name):\n",
    "    print(name)\n",
    "    \n",
    "f.visit(printname)"
   ]
  },
  {
   "cell_type": "markdown",
   "metadata": {},
   "source": [
    "## Close the file when you're done"
   ]
  },
  {
   "cell_type": "code",
   "execution_count": 115,
   "metadata": {},
   "outputs": [],
   "source": [
    "f.close()"
   ]
  },
  {
   "cell_type": "code",
   "execution_count": null,
   "metadata": {},
   "outputs": [],
   "source": []
  }
 ],
 "metadata": {
  "kernelspec": {
   "display_name": "Python [conda env:py36]",
   "language": "python",
   "name": "conda-env-py36-py"
  },
  "language_info": {
   "codemirror_mode": {
    "name": "ipython",
    "version": 3
   },
   "file_extension": ".py",
   "mimetype": "text/x-python",
   "name": "python",
   "nbconvert_exporter": "python",
   "pygments_lexer": "ipython3",
   "version": "3.6.8"
  }
 },
 "nbformat": 4,
 "nbformat_minor": 2
}
